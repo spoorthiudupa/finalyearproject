{
 "cells": [
  {
   "cell_type": "markdown",
   "metadata": {},
   "source": [
    "# ABCD Extraction - Part 2\n",
    "\n",
    "### This file contains the extraction of ABCD features. The steps performed are:\n",
    "\n",
    "1. Pass threshold image to asymmetry, border and diameter functions and result image to color function\n",
    "2. Find the total number of affected pixels (A), unaffected pixels, and the difference between unaffected and affected pixels (a).\n",
    "3. Computer asymmetry through the formula \n",
    "4. Perform edge detection and return matrix with value set to one where pixel border exists \n",
    "5. Calculate the inverse of shape factor \n",
    "6. Compute the border using the formula \n",
    "7. Compute standard deviation and mean for pixel values \n",
    "8. Compute the color.\n",
    "9. Compute the diameter using the formula\n"
   ]
  },
  {
   "cell_type": "code",
   "execution_count": 12,
   "metadata": {},
   "outputs": [],
   "source": [
    "import numpy as np\n",
    "import math\n",
    "import scipy\n",
    "from scipy import misc\n",
    "from scipy import ndimage\n",
    "import matplotlib\n",
    "import matplotlib.pyplot as plt\n",
    "import matplotlib.cm as cm\n",
    "import imageio"
   ]
  },
  {
   "cell_type": "markdown",
   "metadata": {},
   "source": [
    "Define the different functions needed for the extraction"
   ]
  },
  {
   "cell_type": "code",
   "execution_count": 13,
   "metadata": {},
   "outputs": [],
   "source": [
    "def sobel(array):\n",
    "        Gdash=array\n",
    "        shape=array.shape\n",
    "        gx=np.array([[-2,-1,0,1,2] for i in range(0,5)])\n",
    "        gy=np.array([np.repeat(i,5) for i in range (-2,3)])\n",
    "        gf=np.array([[np.exp(-(gx[i,j]*gx[i,j]+gy[i,j]*gy[i,j])/3) for j in range(0,5)] for i in range(0,5)])\n",
    "        smooth=np.array([([np.sum(gf*array[i:i+5,j:j+5])/25 for j in range(0,shape[1]-4)]) for i in range(0,shape[0]-4)])\n",
    "        for i in range(2,shape[0]-2):\n",
    "            for j in range(2,shape[1]-2):\n",
    "                 Gdash[i,j]=smooth[i-2,j-2]\n",
    "        G=Gdash\n",
    "        sobely=np.array([[3,0,-3],[10,0,-10],[3,0,-3]])\n",
    "        sobelx=np.array([[3,10,3],[0,0,0],[-3,-10,-3]])\n",
    "        Gx=np.array([([np.sum(sobelx*array[i:i+3,j:j+3])/9 for j in range(0,shape[1]-2)]) for i in range(0,shape[0]-2)])\n",
    "        Gy=np.array([([np.sum(sobely*array[i:i+3,j:j+3])/9 for j in range(0,shape[1]-2)]) for i in range(0,shape[0]-2)])                \n",
    "        Gx=[[Gx[i,j]*Gx[i,j] for j in range(0,shape[1]-2)] for i in range(0,shape[0]-2)]\n",
    "        Gy=[[Gy[i,j]*Gy[i,j] for j in range(0,shape[1]-2)] for i in range(0,shape[0]-2)]\n",
    "        tempG=np.sqrt(np.add(Gx,Gy))\n",
    "        for i in range(1,shape[0]-1):\n",
    "            for j in range(1,shape[1]-1):\n",
    "                 G[i,j]=tempG[i-1,j-1]\n",
    "        G.astype(int)      \n",
    "        return G\n",
    "\n",
    "def Area(img):\n",
    "    naffect=0\n",
    "    affect=0\n",
    "    for rownum in range(len(img)):\n",
    "        for colnum in range(len(img[rownum])):\n",
    "            if img[rownum,colnum] == 0 :\n",
    "                naffect=naffect+1\n",
    "            else:\n",
    "                affect=affect+1\n",
    "    a=naffect-affect\n",
    "    A=affect\n",
    "    return a,A\n",
    "\n",
    "def ColourCalc(hsvimg):\n",
    "    mean=0\n",
    "    SD=0\n",
    "    for row in range(len(hsvimg)):\n",
    "        for col in range(len(hsvimg[row])):\n",
    "            mean=mean+hsvimg[row,col,0]\n",
    "    for row in range(len(hsvimg)):\n",
    "        for col in range(len(hsvimg[row])):\n",
    "            SD=SD+(hsvimg[row,col,0]-mean)*(hsvimg[row,col,0]-mean)\n",
    "    width,height,val=hsvimg.shape\n",
    "    n=width*height\n",
    "    SD=math.sqrt(SD)/(n-1)\n",
    "    return SD"
   ]
  },
  {
   "cell_type": "markdown",
   "metadata": {},
   "source": [
    "This shows the ABCD values of a benign sample image"
   ]
  },
  {
   "cell_type": "code",
   "execution_count": 19,
   "metadata": {
    "id": "eHTYPXiJ6RTB",
    "outputId": "de0a3a1c-7fb3-48a0-d1b1-a06ec167b2d3"
   },
   "outputs": [],
   "source": [
    "import os\n",
    "from os import listdir\n",
    "import pandas as pd\n",
    "\n",
    "abcd=[]\n",
    "    \n",
    "if __name__== \"__main__\":\n",
    "\n",
    "    folder_dir = \"C:/Users/spoor/finalproject/melanoma-detection/\"\n",
    "\n",
    "    for i in range(1,155):\n",
    "        img = imageio.imread('C:/Users/spoor/finalproject/melanoma-detection/Result/Result'+str(i)+'.jpg')\n",
    "        img2=imageio.imread('C:/Users/spoor/finalproject/melanoma-detection/Threshold/threshold'+str(i)+'.jpg')\n",
    "\n",
    "\n",
    "        dilimg=ndimage.binary_dilation(img2)\n",
    "        for x in range(25):\n",
    "            dilimg=ndimage.binary_dilation(dilimg)\n",
    "        erimg=ndimage.binary_erosion(dilimg)\n",
    "        for x in range(25):\n",
    "            erimg=ndimage.binary_erosion(erimg)\n",
    "\n",
    "        a,A=Area(erimg)\n",
    "\n",
    "        Asymmetry=((a/A)*100)/10\n",
    "        if Asymmetry<0 :\n",
    "            Asymmetry=Asymmetry*(-1)\n",
    "\n",
    "\n",
    "\n",
    "        gigi=sobel(erimg)\n",
    "\n",
    "        pcount=0\n",
    "        for row in range(len(gigi)):\n",
    "            for col in range(len(gigi[row])):\n",
    "                if gigi[row,col] == 1:\n",
    "                    pcount=pcount+1\n",
    "        P=pcount\n",
    "        Border=((P*P)/(4*3.14*A))/10\n",
    "\n",
    "\n",
    "        n=(4*A)/P\n",
    "        Diameter=(math.sqrt(n))/10\n",
    "\n",
    "\n",
    "        hsvimg=matplotlib.colors.rgb_to_hsv(img)\n",
    "\n",
    "        Colour=(ColourCalc(hsvimg))/10\t\n",
    "\n",
    "\n",
    "        abcdlist=[Asymmetry,Border,Colour,Diameter]\n",
    "        abcd.append(abcdlist)\n",
    "\n",
    "        \n",
    "        abcddf=pd.DataFrame(abcd)\n",
    "    print(abcddf)\n",
    " \n"
   ]
  },
  {
   "cell_type": "code",
   "execution_count": 20,
   "metadata": {},
   "outputs": [],
   "source": [
    "abcddf.to_excel('abcdnew.xlsx', index=False)"
   ]
  },
  {
   "cell_type": "code",
   "execution_count": null,
   "metadata": {},
   "outputs": [],
   "source": []
  },
  {
   "cell_type": "code",
   "execution_count": null,
   "metadata": {},
   "outputs": [],
   "source": []
  },
  {
   "cell_type": "code",
   "execution_count": null,
   "metadata": {},
   "outputs": [],
   "source": []
  }
 ],
 "metadata": {
  "colab": {
   "name": "ABCDE Rule Melanomz.ipynb",
   "provenance": []
  },
  "kernelspec": {
   "display_name": "Python 3",
   "language": "python",
   "name": "python3"
  },
  "language_info": {
   "codemirror_mode": {
    "name": "ipython",
    "version": 3
   },
   "file_extension": ".py",
   "mimetype": "text/x-python",
   "name": "python",
   "nbconvert_exporter": "python",
   "pygments_lexer": "ipython3",
   "version": "3.8.5"
  }
 },
 "nbformat": 4,
 "nbformat_minor": 1
}
