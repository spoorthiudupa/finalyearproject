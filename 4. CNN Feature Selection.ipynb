{
 "cells": [
  {
   "cell_type": "markdown",
   "metadata": {},
   "source": [
    "# Second tier CNN and feature extraction\n",
    "\n",
    "### This file has the results of the secod tier CNN and the extraction of CNN features. The steps performed are:\n",
    "\n",
    "1. This BSD is fed to a second-tier CNN and is trained for 150 epochs \n",
    "2. The CNN used has 4 convolutional layers having 32,64, 128 and 256 filters with filter size 3*3.  \n",
    "3. From this CNN, the 3rd dense layer is selected for feature selection. \n",
    "4. 64 features of importance are selected by the CNN which is stored. \n",
    "5. These features are a result of a fully connected layer with 64 units (features) with ReLu as the activation function. \n",
    "6. Binary cross entropy is the loss function.\n"
   ]
  },
  {
   "cell_type": "code",
   "execution_count": 15,
   "metadata": {},
   "outputs": [],
   "source": [
    "import tensorflow as tf\n",
    "import keras\n",
    "\n",
    "from keras import regularizers\n",
    "from keras import backend as K\n",
    "\n",
    "from keras.models import Sequential, Model\n",
    "\n",
    "from keras.layers import *\n",
    "from keras.optimizers import *\n",
    "\n",
    "from keras.callbacks import ModelCheckpoint\n",
    "from keras.initializers import Constant\n",
    "\n",
    "\n",
    "from keras.utils import np_utils\n",
    "from keras_preprocessing.image import ImageDataGenerator\n",
    "\n",
    "\n",
    "from keras.callbacks import Callback\n",
    "from sklearn.metrics import confusion_matrix, f1_score, precision_score, recall_score\n",
    "from keras.applications import MobileNetV2\n",
    "\n",
    "from sklearn.metrics import roc_curve\n",
    "from sklearn.metrics import auc"
   ]
  },
  {
   "cell_type": "code",
   "execution_count": 16,
   "metadata": {},
   "outputs": [],
   "source": [
    "import os\n",
    "%matplotlib inline\n",
    "import matplotlib.pyplot as plt\n",
    "import numpy as np\n",
    "import pandas as pd\n",
    "import seaborn as sns\n",
    "\n",
    "\n",
    "from PIL import Image\n",
    "from sklearn.preprocessing import StandardScaler \n",
    "from sklearn.model_selection import train_test_split, KFold, cross_val_score, GridSearchCV\n",
    "from sklearn.metrics import accuracy_score\n",
    "from sklearn.metrics import confusion_matrix\n",
    "\n",
    "import tensorflow\n",
    "from tensorflow.keras.models import Sequential, Model\n",
    "from tensorflow.keras.layers import Dense, Dropout, Flatten, Conv2D, MaxPool2D\n",
    "from tensorflow.keras.optimizers import Adam, RMSprop\n",
    "from tensorflow.keras.preprocessing.image import ImageDataGenerator\n",
    "from tensorflow.keras.layers import BatchNormalization\n",
    "from tensorflow.keras import optimizers\n",
    "from keras.applications import MobileNetV2\n",
    "import imageio\n",
    "from keras.utils import to_categorical"
   ]
  },
  {
   "cell_type": "markdown",
   "metadata": {},
   "source": [
    "The malignant and benign data is loaded to np arrays. "
   ]
  },
  {
   "cell_type": "code",
   "execution_count": 17,
   "metadata": {},
   "outputs": [],
   "source": [
    "xs = []\n",
    "ys = []\n",
    "def Load_data_malignant():\n",
    "    path =\"final/malignant\"\n",
    "    x_out = []\n",
    "    y_out = []\n",
    "    for i in range(1, 314):\n",
    "        img = imageio.imread(path +'/' + '1' + ' (' + str(i) + ')' + '.jpg')\n",
    "        lab = 1 \n",
    "        x_out.append(img)\n",
    "        y_out.append(lab)\n",
    "    return x_out, y_out"
   ]
  },
  {
   "cell_type": "code",
   "execution_count": 18,
   "metadata": {},
   "outputs": [],
   "source": [
    "def Load_data_benign():\n",
    "    path =\"final/benign\"\n",
    "    x_out = []\n",
    "    y_out = []\n",
    "    for i in range(1, 314):\n",
    "        img = imageio.imread(path +'/' + '1' + ' (' + str(i) + ')' + '.jpg')\n",
    "        lab = 0 \n",
    "        x_out.append(img)\n",
    "        y_out.append(lab)\n",
    "    return x_out, y_out"
   ]
  },
  {
   "cell_type": "markdown",
   "metadata": {},
   "source": [
    "The benign and malignant arrays are assigned to x and y arrays"
   ]
  },
  {
   "cell_type": "code",
   "execution_count": 19,
   "metadata": {},
   "outputs": [],
   "source": [
    "x_0, y_0 = Load_data_benign()"
   ]
  },
  {
   "cell_type": "code",
   "execution_count": 20,
   "metadata": {},
   "outputs": [],
   "source": [
    "x_1, y_1 = Load_data_malignant()"
   ]
  },
  {
   "cell_type": "markdown",
   "metadata": {},
   "source": [
    "The arrays are concatenated to form x and y arrays (features, outputs)"
   ]
  },
  {
   "cell_type": "code",
   "execution_count": 21,
   "metadata": {},
   "outputs": [],
   "source": [
    "x_0 = np.array(x_0)\n",
    "y_0 = np.array(y_0)\n",
    "\n",
    "x_1 = np.array(x_1)\n",
    "y_1 = np.array(y_1)"
   ]
  },
  {
   "cell_type": "code",
   "execution_count": 22,
   "metadata": {},
   "outputs": [],
   "source": [
    "num_classes = 2\n",
    "x=np.concatenate((x_0, x_1), axis=0)\n",
    "y=np.concatenate((y_0, y_1), axis=0)\n",
    "\n",
    "y = np_utils.to_categorical(y, num_classes)"
   ]
  },
  {
   "cell_type": "markdown",
   "metadata": {},
   "source": [
    "The data is split as train and test with 70:30 split"
   ]
  },
  {
   "cell_type": "code",
   "execution_count": 23,
   "metadata": {},
   "outputs": [],
   "source": [
    "x_train, x_Test, y_train, y_Test = train_test_split(x, y, test_size=0.3, random_state=5,stratify=y)"
   ]
  },
  {
   "cell_type": "code",
   "execution_count": 24,
   "metadata": {},
   "outputs": [
    {
     "data": {
      "text/plain": [
       "(438, 224, 224, 3)"
      ]
     },
     "execution_count": 24,
     "metadata": {},
     "output_type": "execute_result"
    }
   ],
   "source": [
    "x_train.shape"
   ]
  },
  {
   "cell_type": "markdown",
   "metadata": {},
   "source": [
    "The CNN model is defined below"
   ]
  },
  {
   "cell_type": "code",
   "execution_count": 25,
   "metadata": {},
   "outputs": [
    {
     "name": "stdout",
     "output_type": "stream",
     "text": [
      "Model: \"sequential_1\"\n",
      "_________________________________________________________________\n",
      " Layer (type)                Output Shape              Param #   \n",
      "=================================================================\n",
      " conv2d_4 (Conv2D)           (None, 224, 224, 32)      896       \n",
      "                                                                 \n",
      " conv2d_5 (Conv2D)           (None, 224, 224, 64)      18496     \n",
      "                                                                 \n",
      " max_pooling2d_3 (MaxPooling  (None, 112, 112, 64)     0         \n",
      " 2D)                                                             \n",
      "                                                                 \n",
      " conv2d_6 (Conv2D)           (None, 112, 112, 128)     73856     \n",
      "                                                                 \n",
      " max_pooling2d_4 (MaxPooling  (None, 56, 56, 128)      0         \n",
      " 2D)                                                             \n",
      "                                                                 \n",
      " conv2d_7 (Conv2D)           (None, 56, 56, 256)       295168    \n",
      "                                                                 \n",
      " max_pooling2d_5 (MaxPooling  (None, 28, 28, 256)      0         \n",
      " 2D)                                                             \n",
      "                                                                 \n",
      " flatten_1 (Flatten)         (None, 200704)            0         \n",
      "                                                                 \n",
      " feature_dense1 (Dense)      (None, 256)               51380480  \n",
      "                                                                 \n",
      " feature_dense2 (Dense)      (None, 128)               32896     \n",
      "                                                                 \n",
      " feature_dense3 (Dense)      (None, 64)                8256      \n",
      "                                                                 \n",
      " dense_2 (Dense)             (None, 32)                2080      \n",
      "                                                                 \n",
      " dense_3 (Dense)             (None, 2)                 66        \n",
      "                                                                 \n",
      "=================================================================\n",
      "Total params: 51,812,194\n",
      "Trainable params: 51,812,194\n",
      "Non-trainable params: 0\n",
      "_________________________________________________________________\n"
     ]
    }
   ],
   "source": [
    "model = keras.models.Sequential([\n",
    "    keras.layers.Conv2D(filters=32, kernel_size=3, activation='relu', padding='same', input_shape=[224,224,3]),\n",
    "    keras.layers.Conv2D(filters=64, kernel_size=3, activation='relu', padding='same'),\n",
    "    keras.layers.MaxPool2D(2),\n",
    "    keras.layers.Conv2D(filters=128, kernel_size=3, activation='relu', padding='same'),\n",
    "    keras.layers.MaxPool2D(2),\n",
    "    keras.layers.Conv2D(filters=256, kernel_size=3, activation='relu', padding='same'),\n",
    "    keras.layers.MaxPool2D(2),\n",
    "    keras.layers.Flatten(),\n",
    "    keras.layers.Dense(256, activation='relu',name ='feature_dense1'),\n",
    "    keras.layers.Dense(128, activation='relu',name ='feature_dense2'),\n",
    "    keras.layers.Dense(64, activation='relu',name ='feature_dense3'),\n",
    "    keras.layers.Dense(32, activation='relu'),\n",
    "    keras.layers.Dense(2, activation='sigmoid')\n",
    "   ])\n",
    "model.summary()"
   ]
  },
  {
   "cell_type": "markdown",
   "metadata": {},
   "source": [
    "Optimizer is chosen as Adamax, binary cross entropy is the loss function, with epochs as 150"
   ]
  },
  {
   "cell_type": "code",
   "execution_count": 26,
   "metadata": {},
   "outputs": [],
   "source": [
    "optimizer = keras.optimizers.Adamax()\n",
    "model.compile(optimizer=optimizer, loss=keras.losses.BinaryCrossentropy(), metrics=['accuracy'])"
   ]
  },
  {
   "cell_type": "markdown",
   "metadata": {},
   "source": [
    "The model is fit to the data"
   ]
  },
  {
   "cell_type": "code",
   "execution_count": 27,
   "metadata": {},
   "outputs": [
    {
     "name": "stdout",
     "output_type": "stream",
     "text": [
      "Epoch 1/150\n",
      "11/11 [==============================] - 49s 4s/step - loss: 78.1600 - accuracy: 0.4840 - val_loss: 2.9758 - val_accuracy: 0.5000\n",
      "Epoch 2/150\n",
      "11/11 [==============================] - 48s 4s/step - loss: 1.6092 - accuracy: 0.5502 - val_loss: 0.6193 - val_accuracy: 0.5957\n",
      "Epoch 3/150\n",
      "11/11 [==============================] - 54s 5s/step - loss: 0.5985 - accuracy: 0.6735 - val_loss: 0.6021 - val_accuracy: 0.6702\n",
      "Epoch 4/150\n",
      "11/11 [==============================] - 51s 5s/step - loss: 0.5155 - accuracy: 0.7352 - val_loss: 0.4967 - val_accuracy: 0.7447\n",
      "Epoch 5/150\n",
      "11/11 [==============================] - 50s 5s/step - loss: 0.4460 - accuracy: 0.7785 - val_loss: 0.5173 - val_accuracy: 0.7287\n",
      "Epoch 6/150\n",
      "11/11 [==============================] - 49s 5s/step - loss: 0.4554 - accuracy: 0.7580 - val_loss: 0.5353 - val_accuracy: 0.7181\n",
      "Epoch 7/150\n",
      "11/11 [==============================] - 49s 5s/step - loss: 0.4215 - accuracy: 0.8196 - val_loss: 0.5111 - val_accuracy: 0.7394\n",
      "Epoch 8/150\n",
      "11/11 [==============================] - 49s 5s/step - loss: 0.3591 - accuracy: 0.8447 - val_loss: 0.5166 - val_accuracy: 0.7340\n",
      "Epoch 9/150\n",
      "11/11 [==============================] - 50s 5s/step - loss: 0.3372 - accuracy: 0.8402 - val_loss: 0.5071 - val_accuracy: 0.7606\n",
      "Epoch 10/150\n",
      "11/11 [==============================] - 53s 5s/step - loss: 0.2739 - accuracy: 0.8836 - val_loss: 0.6886 - val_accuracy: 0.7234\n",
      "Epoch 11/150\n",
      "11/11 [==============================] - 59s 5s/step - loss: 0.2449 - accuracy: 0.8927 - val_loss: 0.6012 - val_accuracy: 0.7074\n",
      "Epoch 12/150\n",
      "11/11 [==============================] - 50s 5s/step - loss: 0.2024 - accuracy: 0.9201 - val_loss: 0.6529 - val_accuracy: 0.7394\n",
      "Epoch 13/150\n",
      "11/11 [==============================] - 51s 5s/step - loss: 0.1675 - accuracy: 0.9361 - val_loss: 0.7299 - val_accuracy: 0.7340\n",
      "Epoch 14/150\n",
      "11/11 [==============================] - 50s 5s/step - loss: 0.1267 - accuracy: 0.9612 - val_loss: 0.8746 - val_accuracy: 0.6862\n",
      "Epoch 15/150\n",
      "11/11 [==============================] - 51s 5s/step - loss: 0.1267 - accuracy: 0.9429 - val_loss: 1.1013 - val_accuracy: 0.7021\n",
      "Epoch 16/150\n",
      "11/11 [==============================] - 50s 5s/step - loss: 0.1095 - accuracy: 0.9612 - val_loss: 0.8975 - val_accuracy: 0.7181\n",
      "Epoch 17/150\n",
      "11/11 [==============================] - 52s 5s/step - loss: 0.0681 - accuracy: 0.9840 - val_loss: 1.0712 - val_accuracy: 0.6915\n",
      "Epoch 18/150\n",
      "11/11 [==============================] - 51s 5s/step - loss: 0.0689 - accuracy: 0.9795 - val_loss: 0.8898 - val_accuracy: 0.7340\n",
      "Epoch 19/150\n",
      "11/11 [==============================] - 51s 5s/step - loss: 0.0346 - accuracy: 0.9932 - val_loss: 0.9973 - val_accuracy: 0.7500\n",
      "Epoch 20/150\n",
      "11/11 [==============================] - 50s 5s/step - loss: 0.0240 - accuracy: 0.9954 - val_loss: 1.1717 - val_accuracy: 0.7447\n",
      "Epoch 21/150\n",
      "11/11 [==============================] - 50s 5s/step - loss: 0.0171 - accuracy: 1.0000 - val_loss: 1.0864 - val_accuracy: 0.7394\n",
      "Epoch 22/150\n",
      "11/11 [==============================] - 50s 5s/step - loss: 0.0206 - accuracy: 0.9977 - val_loss: 1.3778 - val_accuracy: 0.6968\n",
      "Epoch 23/150\n",
      "11/11 [==============================] - 50s 5s/step - loss: 0.0203 - accuracy: 1.0000 - val_loss: 1.2444 - val_accuracy: 0.7021\n",
      "Epoch 24/150\n",
      "11/11 [==============================] - 50s 5s/step - loss: 0.0130 - accuracy: 1.0000 - val_loss: 1.2670 - val_accuracy: 0.7447\n",
      "Epoch 25/150\n",
      "11/11 [==============================] - 50s 5s/step - loss: 0.0076 - accuracy: 1.0000 - val_loss: 1.3750 - val_accuracy: 0.7340\n",
      "Epoch 26/150\n",
      "11/11 [==============================] - 50s 5s/step - loss: 0.0062 - accuracy: 1.0000 - val_loss: 1.3799 - val_accuracy: 0.7340\n",
      "Epoch 27/150\n",
      "11/11 [==============================] - 50s 5s/step - loss: 0.0041 - accuracy: 1.0000 - val_loss: 1.4295 - val_accuracy: 0.7500\n",
      "Epoch 28/150\n",
      "11/11 [==============================] - 51s 5s/step - loss: 0.0032 - accuracy: 1.0000 - val_loss: 1.4648 - val_accuracy: 0.7340\n",
      "Epoch 29/150\n",
      "11/11 [==============================] - 63s 6s/step - loss: 0.0026 - accuracy: 1.0000 - val_loss: 1.4738 - val_accuracy: 0.7447\n",
      "Epoch 30/150\n",
      "11/11 [==============================] - 53s 5s/step - loss: 0.0021 - accuracy: 1.0000 - val_loss: 1.4261 - val_accuracy: 0.7713\n",
      "Epoch 31/150\n",
      "11/11 [==============================] - 53s 5s/step - loss: 0.0019 - accuracy: 1.0000 - val_loss: 1.5314 - val_accuracy: 0.7606\n",
      "Epoch 32/150\n",
      "11/11 [==============================] - 52s 5s/step - loss: 0.0017 - accuracy: 1.0000 - val_loss: 1.5333 - val_accuracy: 0.7553\n",
      "Epoch 33/150\n",
      "11/11 [==============================] - 51s 5s/step - loss: 0.0014 - accuracy: 1.0000 - val_loss: 1.5075 - val_accuracy: 0.7766\n",
      "Epoch 34/150\n",
      "11/11 [==============================] - 52s 5s/step - loss: 0.0014 - accuracy: 1.0000 - val_loss: 1.6591 - val_accuracy: 0.7181\n",
      "Epoch 35/150\n",
      "11/11 [==============================] - 52s 5s/step - loss: 0.0012 - accuracy: 1.0000 - val_loss: 1.5308 - val_accuracy: 0.7606\n",
      "Epoch 36/150\n",
      "11/11 [==============================] - 51s 5s/step - loss: 9.9607e-04 - accuracy: 1.0000 - val_loss: 1.6522 - val_accuracy: 0.7660\n",
      "Epoch 37/150\n",
      "11/11 [==============================] - 52s 5s/step - loss: 9.0687e-04 - accuracy: 1.0000 - val_loss: 1.6315 - val_accuracy: 0.7660\n",
      "Epoch 38/150\n",
      "11/11 [==============================] - 51s 5s/step - loss: 7.7018e-04 - accuracy: 1.0000 - val_loss: 1.6302 - val_accuracy: 0.7606\n",
      "Epoch 39/150\n",
      "11/11 [==============================] - 51s 5s/step - loss: 6.6320e-04 - accuracy: 1.0000 - val_loss: 1.6389 - val_accuracy: 0.7500\n",
      "Epoch 40/150\n",
      "11/11 [==============================] - 52s 5s/step - loss: 6.0626e-04 - accuracy: 1.0000 - val_loss: 1.7125 - val_accuracy: 0.7766\n",
      "Epoch 41/150\n",
      "11/11 [==============================] - 53s 5s/step - loss: 5.3325e-04 - accuracy: 1.0000 - val_loss: 1.7693 - val_accuracy: 0.7500\n",
      "Epoch 42/150\n",
      "11/11 [==============================] - 51s 5s/step - loss: 4.8725e-04 - accuracy: 1.0000 - val_loss: 1.7935 - val_accuracy: 0.7606\n",
      "Epoch 43/150\n",
      "11/11 [==============================] - 51s 5s/step - loss: 4.3828e-04 - accuracy: 1.0000 - val_loss: 1.8082 - val_accuracy: 0.7606\n",
      "Epoch 44/150\n",
      "11/11 [==============================] - 51s 5s/step - loss: 3.8950e-04 - accuracy: 1.0000 - val_loss: 1.8519 - val_accuracy: 0.7606\n",
      "Epoch 45/150\n",
      "11/11 [==============================] - 50s 5s/step - loss: 3.5418e-04 - accuracy: 1.0000 - val_loss: 1.8549 - val_accuracy: 0.7553\n",
      "Epoch 46/150\n",
      "11/11 [==============================] - 59s 5s/step - loss: 3.2816e-04 - accuracy: 1.0000 - val_loss: 1.9586 - val_accuracy: 0.7447\n",
      "Epoch 47/150\n",
      "11/11 [==============================] - 51s 5s/step - loss: 2.8772e-04 - accuracy: 1.0000 - val_loss: 1.9035 - val_accuracy: 0.7500\n",
      "Epoch 48/150\n",
      "11/11 [==============================] - 51s 5s/step - loss: 2.6932e-04 - accuracy: 1.0000 - val_loss: 1.9532 - val_accuracy: 0.7553\n",
      "Epoch 49/150\n",
      "11/11 [==============================] - 51s 5s/step - loss: 2.3563e-04 - accuracy: 1.0000 - val_loss: 1.9736 - val_accuracy: 0.7394\n",
      "Epoch 50/150\n",
      "11/11 [==============================] - 52s 5s/step - loss: 2.0688e-04 - accuracy: 1.0000 - val_loss: 1.9922 - val_accuracy: 0.7340\n",
      "Epoch 51/150\n",
      "11/11 [==============================] - 61s 6s/step - loss: 1.9002e-04 - accuracy: 1.0000 - val_loss: 2.0524 - val_accuracy: 0.7500\n",
      "Epoch 52/150\n",
      "11/11 [==============================] - 48s 4s/step - loss: 1.7280e-04 - accuracy: 1.0000 - val_loss: 2.0299 - val_accuracy: 0.7287\n",
      "Epoch 53/150\n",
      "11/11 [==============================] - 47s 4s/step - loss: 1.5504e-04 - accuracy: 1.0000 - val_loss: 2.1423 - val_accuracy: 0.7340\n",
      "Epoch 54/150\n",
      "11/11 [==============================] - 49s 4s/step - loss: 1.3621e-04 - accuracy: 1.0000 - val_loss: 2.0889 - val_accuracy: 0.7340\n",
      "Epoch 55/150\n",
      "11/11 [==============================] - 47s 4s/step - loss: 1.2268e-04 - accuracy: 1.0000 - val_loss: 2.1546 - val_accuracy: 0.7394\n",
      "Epoch 56/150\n",
      "11/11 [==============================] - 46s 4s/step - loss: 1.1144e-04 - accuracy: 1.0000 - val_loss: 2.1406 - val_accuracy: 0.7340\n",
      "Epoch 57/150\n",
      "11/11 [==============================] - 47s 4s/step - loss: 1.0437e-04 - accuracy: 1.0000 - val_loss: 2.2874 - val_accuracy: 0.7394\n",
      "Epoch 58/150\n",
      "11/11 [==============================] - 47s 4s/step - loss: 1.0189e-04 - accuracy: 1.0000 - val_loss: 2.1572 - val_accuracy: 0.7287\n",
      "Epoch 59/150\n",
      "11/11 [==============================] - 47s 4s/step - loss: 8.7304e-05 - accuracy: 1.0000 - val_loss: 2.3047 - val_accuracy: 0.7287\n",
      "Epoch 60/150\n",
      "11/11 [==============================] - 46s 4s/step - loss: 7.7027e-05 - accuracy: 1.0000 - val_loss: 2.2692 - val_accuracy: 0.7394\n",
      "Epoch 61/150\n",
      "11/11 [==============================] - 47s 4s/step - loss: 6.7204e-05 - accuracy: 1.0000 - val_loss: 2.3310 - val_accuracy: 0.7447\n",
      "Epoch 62/150\n",
      "11/11 [==============================] - 47s 4s/step - loss: 6.4106e-05 - accuracy: 1.0000 - val_loss: 2.3039 - val_accuracy: 0.7340\n",
      "Epoch 63/150\n",
      "11/11 [==============================] - 47s 4s/step - loss: 5.5409e-05 - accuracy: 1.0000 - val_loss: 2.4290 - val_accuracy: 0.7447\n",
      "Epoch 64/150\n",
      "11/11 [==============================] - 49s 5s/step - loss: 4.9328e-05 - accuracy: 1.0000 - val_loss: 2.3298 - val_accuracy: 0.7394\n",
      "Epoch 65/150\n",
      "11/11 [==============================] - 51s 5s/step - loss: 4.5203e-05 - accuracy: 1.0000 - val_loss: 2.3896 - val_accuracy: 0.7447\n",
      "Epoch 66/150\n",
      "11/11 [==============================] - 47s 4s/step - loss: 3.9299e-05 - accuracy: 1.0000 - val_loss: 2.4257 - val_accuracy: 0.7447\n",
      "Epoch 67/150\n",
      "11/11 [==============================] - 47s 4s/step - loss: 3.8407e-05 - accuracy: 1.0000 - val_loss: 2.3981 - val_accuracy: 0.7394\n",
      "Epoch 68/150\n",
      "11/11 [==============================] - 47s 4s/step - loss: 3.4037e-05 - accuracy: 1.0000 - val_loss: 2.4556 - val_accuracy: 0.7394\n",
      "Epoch 69/150\n",
      "11/11 [==============================] - 47s 4s/step - loss: 3.0148e-05 - accuracy: 1.0000 - val_loss: 2.4683 - val_accuracy: 0.7394\n",
      "Epoch 70/150\n",
      "11/11 [==============================] - 47s 4s/step - loss: 2.8673e-05 - accuracy: 1.0000 - val_loss: 2.4911 - val_accuracy: 0.7447\n",
      "Epoch 71/150\n",
      "11/11 [==============================] - 49s 5s/step - loss: 2.4313e-05 - accuracy: 1.0000 - val_loss: 2.4748 - val_accuracy: 0.7500\n",
      "Epoch 72/150\n",
      "11/11 [==============================] - 52s 5s/step - loss: 2.2530e-05 - accuracy: 1.0000 - val_loss: 2.5783 - val_accuracy: 0.7287\n",
      "Epoch 73/150\n",
      "11/11 [==============================] - 49s 5s/step - loss: 2.1179e-05 - accuracy: 1.0000 - val_loss: 2.4885 - val_accuracy: 0.7447\n",
      "Epoch 74/150\n",
      "11/11 [==============================] - 47s 4s/step - loss: 1.9501e-05 - accuracy: 1.0000 - val_loss: 2.6204 - val_accuracy: 0.7287\n",
      "Epoch 75/150\n",
      "11/11 [==============================] - 47s 4s/step - loss: 2.1385e-05 - accuracy: 1.0000 - val_loss: 2.7740 - val_accuracy: 0.7447\n",
      "Epoch 76/150\n",
      "11/11 [==============================] - 47s 4s/step - loss: 2.5534e-05 - accuracy: 1.0000 - val_loss: 2.4347 - val_accuracy: 0.7287\n",
      "Epoch 77/150\n",
      "11/11 [==============================] - 47s 4s/step - loss: 1.8642e-05 - accuracy: 1.0000 - val_loss: 2.5606 - val_accuracy: 0.7340\n",
      "Epoch 78/150\n",
      "11/11 [==============================] - 47s 4s/step - loss: 1.6376e-05 - accuracy: 1.0000 - val_loss: 2.6262 - val_accuracy: 0.7234\n",
      "Epoch 79/150\n",
      "11/11 [==============================] - 47s 4s/step - loss: 1.4158e-05 - accuracy: 1.0000 - val_loss: 2.6823 - val_accuracy: 0.7340\n",
      "Epoch 80/150\n",
      "11/11 [==============================] - 47s 4s/step - loss: 1.3291e-05 - accuracy: 1.0000 - val_loss: 2.6408 - val_accuracy: 0.7340\n",
      "Epoch 81/150\n",
      "11/11 [==============================] - 47s 4s/step - loss: 1.2084e-05 - accuracy: 1.0000 - val_loss: 2.6657 - val_accuracy: 0.7340\n",
      "Epoch 82/150\n",
      "11/11 [==============================] - 48s 4s/step - loss: 1.0867e-05 - accuracy: 1.0000 - val_loss: 2.6899 - val_accuracy: 0.7287\n",
      "Epoch 83/150\n",
      "11/11 [==============================] - 55s 5s/step - loss: 1.0258e-05 - accuracy: 1.0000 - val_loss: 2.7171 - val_accuracy: 0.7287\n",
      "Epoch 84/150\n",
      "11/11 [==============================] - 50s 5s/step - loss: 9.3628e-06 - accuracy: 1.0000 - val_loss: 2.7125 - val_accuracy: 0.7340\n",
      "Epoch 85/150\n",
      "11/11 [==============================] - 47s 4s/step - loss: 8.9728e-06 - accuracy: 1.0000 - val_loss: 2.7432 - val_accuracy: 0.7340\n",
      "Epoch 86/150\n",
      "11/11 [==============================] - 47s 4s/step - loss: 8.3120e-06 - accuracy: 1.0000 - val_loss: 2.7336 - val_accuracy: 0.7287\n",
      "Epoch 87/150\n",
      "11/11 [==============================] - 48s 4s/step - loss: 7.9025e-06 - accuracy: 1.0000 - val_loss: 2.7482 - val_accuracy: 0.7287\n",
      "Epoch 88/150\n",
      "11/11 [==============================] - 48s 4s/step - loss: 7.5494e-06 - accuracy: 1.0000 - val_loss: 2.7860 - val_accuracy: 0.7287\n",
      "Epoch 89/150\n",
      "11/11 [==============================] - 47s 4s/step - loss: 7.2157e-06 - accuracy: 1.0000 - val_loss: 2.7663 - val_accuracy: 0.7287\n",
      "Epoch 90/150\n",
      "11/11 [==============================] - 48s 4s/step - loss: 6.8812e-06 - accuracy: 1.0000 - val_loss: 2.7817 - val_accuracy: 0.7340\n",
      "Epoch 91/150\n",
      "11/11 [==============================] - 50s 5s/step - loss: 6.4638e-06 - accuracy: 1.0000 - val_loss: 2.7909 - val_accuracy: 0.7287\n",
      "Epoch 92/150\n",
      "11/11 [==============================] - 48s 4s/step - loss: 6.2050e-06 - accuracy: 1.0000 - val_loss: 2.8028 - val_accuracy: 0.7234\n",
      "Epoch 93/150\n",
      "11/11 [==============================] - 47s 4s/step - loss: 5.8411e-06 - accuracy: 1.0000 - val_loss: 2.8141 - val_accuracy: 0.7340\n",
      "Epoch 94/150\n",
      "11/11 [==============================] - 47s 4s/step - loss: 5.5836e-06 - accuracy: 1.0000 - val_loss: 2.8266 - val_accuracy: 0.7340\n",
      "Epoch 95/150\n",
      "11/11 [==============================] - 47s 4s/step - loss: 5.3611e-06 - accuracy: 1.0000 - val_loss: 2.8260 - val_accuracy: 0.7287\n",
      "Epoch 96/150\n",
      "11/11 [==============================] - 47s 4s/step - loss: 5.0410e-06 - accuracy: 1.0000 - val_loss: 2.8451 - val_accuracy: 0.7234\n",
      "Epoch 97/150\n",
      "11/11 [==============================] - 48s 4s/step - loss: 4.8499e-06 - accuracy: 1.0000 - val_loss: 2.8611 - val_accuracy: 0.7340\n",
      "Epoch 98/150\n",
      "11/11 [==============================] - 47s 4s/step - loss: 4.7333e-06 - accuracy: 1.0000 - val_loss: 2.8420 - val_accuracy: 0.7340\n",
      "Epoch 99/150\n",
      "11/11 [==============================] - 48s 4s/step - loss: 4.6928e-06 - accuracy: 1.0000 - val_loss: 2.8897 - val_accuracy: 0.7287\n",
      "Epoch 100/150\n",
      "11/11 [==============================] - 47s 4s/step - loss: 4.4147e-06 - accuracy: 1.0000 - val_loss: 2.8576 - val_accuracy: 0.7287\n",
      "Epoch 101/150\n",
      "11/11 [==============================] - 47s 4s/step - loss: 4.0942e-06 - accuracy: 1.0000 - val_loss: 2.8969 - val_accuracy: 0.7340\n",
      "Epoch 102/150\n",
      "11/11 [==============================] - 54s 5s/step - loss: 4.0699e-06 - accuracy: 1.0000 - val_loss: 2.8722 - val_accuracy: 0.7287\n",
      "Epoch 103/150\n",
      "11/11 [==============================] - 48s 4s/step - loss: 3.8492e-06 - accuracy: 1.0000 - val_loss: 2.9032 - val_accuracy: 0.7340\n",
      "Epoch 104/150\n",
      "11/11 [==============================] - 48s 4s/step - loss: 3.6164e-06 - accuracy: 1.0000 - val_loss: 2.9097 - val_accuracy: 0.7340\n",
      "Epoch 105/150\n",
      "11/11 [==============================] - 48s 4s/step - loss: 3.4948e-06 - accuracy: 1.0000 - val_loss: 2.9262 - val_accuracy: 0.7287\n",
      "Epoch 106/150\n",
      "11/11 [==============================] - 49s 4s/step - loss: 3.4671e-06 - accuracy: 1.0000 - val_loss: 2.9247 - val_accuracy: 0.7340\n",
      "Epoch 107/150\n",
      "11/11 [==============================] - 50s 5s/step - loss: 3.3293e-06 - accuracy: 1.0000 - val_loss: 2.9249 - val_accuracy: 0.7340\n",
      "Epoch 108/150\n",
      "11/11 [==============================] - 51s 5s/step - loss: 3.2627e-06 - accuracy: 1.0000 - val_loss: 2.9429 - val_accuracy: 0.7340\n",
      "Epoch 109/150\n",
      "11/11 [==============================] - 50s 5s/step - loss: 3.0919e-06 - accuracy: 1.0000 - val_loss: 2.9555 - val_accuracy: 0.7287\n",
      "Epoch 110/150\n",
      "11/11 [==============================] - 51s 5s/step - loss: 2.9851e-06 - accuracy: 1.0000 - val_loss: 2.9664 - val_accuracy: 0.7340\n",
      "Epoch 111/150\n",
      "11/11 [==============================] - 52s 5s/step - loss: 2.8622e-06 - accuracy: 1.0000 - val_loss: 2.9639 - val_accuracy: 0.7340\n",
      "Epoch 112/150\n",
      "11/11 [==============================] - 56s 5s/step - loss: 2.7301e-06 - accuracy: 1.0000 - val_loss: 2.9831 - val_accuracy: 0.7287\n",
      "Epoch 113/150\n",
      "11/11 [==============================] - 58s 5s/step - loss: 2.6307e-06 - accuracy: 1.0000 - val_loss: 2.9711 - val_accuracy: 0.7394\n",
      "Epoch 114/150\n"
     ]
    },
    {
     "name": "stdout",
     "output_type": "stream",
     "text": [
      "11/11 [==============================] - 48s 4s/step - loss: 2.5628e-06 - accuracy: 1.0000 - val_loss: 2.9866 - val_accuracy: 0.7340\n",
      "Epoch 115/150\n",
      "11/11 [==============================] - 48s 4s/step - loss: 2.4445e-06 - accuracy: 1.0000 - val_loss: 3.0037 - val_accuracy: 0.7287\n",
      "Epoch 116/150\n",
      "11/11 [==============================] - 47s 4s/step - loss: 2.4719e-06 - accuracy: 1.0000 - val_loss: 3.0042 - val_accuracy: 0.7287\n",
      "Epoch 117/150\n",
      "11/11 [==============================] - 47s 4s/step - loss: 2.3910e-06 - accuracy: 1.0000 - val_loss: 3.0167 - val_accuracy: 0.7340\n",
      "Epoch 118/150\n",
      "11/11 [==============================] - 47s 4s/step - loss: 2.2828e-06 - accuracy: 1.0000 - val_loss: 3.0084 - val_accuracy: 0.7340\n",
      "Epoch 119/150\n",
      "11/11 [==============================] - 47s 4s/step - loss: 2.1290e-06 - accuracy: 1.0000 - val_loss: 3.0354 - val_accuracy: 0.7340\n",
      "Epoch 120/150\n",
      "11/11 [==============================] - 54s 5s/step - loss: 2.1369e-06 - accuracy: 1.0000 - val_loss: 3.0320 - val_accuracy: 0.7234\n",
      "Epoch 121/150\n",
      "11/11 [==============================] - 47s 4s/step - loss: 2.0448e-06 - accuracy: 1.0000 - val_loss: 3.0482 - val_accuracy: 0.7181\n",
      "Epoch 122/150\n",
      "11/11 [==============================] - 48s 4s/step - loss: 1.9582e-06 - accuracy: 1.0000 - val_loss: 3.0437 - val_accuracy: 0.7234\n",
      "Epoch 123/150\n",
      "11/11 [==============================] - 47s 4s/step - loss: 1.9072e-06 - accuracy: 1.0000 - val_loss: 3.0513 - val_accuracy: 0.7287\n",
      "Epoch 124/150\n",
      "11/11 [==============================] - 47s 4s/step - loss: 1.8587e-06 - accuracy: 1.0000 - val_loss: 3.0571 - val_accuracy: 0.7181\n",
      "Epoch 125/150\n",
      "11/11 [==============================] - 53s 5s/step - loss: 1.8129e-06 - accuracy: 1.0000 - val_loss: 3.0595 - val_accuracy: 0.7234\n",
      "Epoch 126/150\n",
      "11/11 [==============================] - 53s 5s/step - loss: 1.7562e-06 - accuracy: 1.0000 - val_loss: 3.0735 - val_accuracy: 0.7128\n",
      "Epoch 127/150\n",
      "11/11 [==============================] - 52s 5s/step - loss: 1.7256e-06 - accuracy: 1.0000 - val_loss: 3.0789 - val_accuracy: 0.7181\n",
      "Epoch 128/150\n",
      "11/11 [==============================] - 48s 4s/step - loss: 1.6766e-06 - accuracy: 1.0000 - val_loss: 3.0876 - val_accuracy: 0.7128\n",
      "Epoch 129/150\n",
      "11/11 [==============================] - 51s 5s/step - loss: 1.6085e-06 - accuracy: 1.0000 - val_loss: 3.1001 - val_accuracy: 0.7128\n",
      "Epoch 130/150\n",
      "11/11 [==============================] - 54s 5s/step - loss: 1.5744e-06 - accuracy: 1.0000 - val_loss: 3.0950 - val_accuracy: 0.7181\n",
      "Epoch 131/150\n",
      "11/11 [==============================] - 50s 5s/step - loss: 1.5610e-06 - accuracy: 1.0000 - val_loss: 3.1017 - val_accuracy: 0.7128\n",
      "Epoch 132/150\n",
      "11/11 [==============================] - 52s 5s/step - loss: 1.5646e-06 - accuracy: 1.0000 - val_loss: 3.1215 - val_accuracy: 0.7128\n",
      "Epoch 133/150\n",
      "11/11 [==============================] - 51s 5s/step - loss: 1.4804e-06 - accuracy: 1.0000 - val_loss: 3.1100 - val_accuracy: 0.7074\n",
      "Epoch 134/150\n",
      "11/11 [==============================] - 49s 4s/step - loss: 1.4024e-06 - accuracy: 1.0000 - val_loss: 3.1287 - val_accuracy: 0.7074\n",
      "Epoch 135/150\n",
      "11/11 [==============================] - 54s 5s/step - loss: 1.3703e-06 - accuracy: 1.0000 - val_loss: 3.1373 - val_accuracy: 0.7128\n",
      "Epoch 136/150\n",
      "11/11 [==============================] - 61s 6s/step - loss: 1.3323e-06 - accuracy: 1.0000 - val_loss: 3.1372 - val_accuracy: 0.7074\n",
      "Epoch 137/150\n",
      "11/11 [==============================] - 50s 5s/step - loss: 1.3141e-06 - accuracy: 1.0000 - val_loss: 3.1552 - val_accuracy: 0.7074\n",
      "Epoch 138/150\n",
      "11/11 [==============================] - 58s 5s/step - loss: 1.2648e-06 - accuracy: 1.0000 - val_loss: 3.1361 - val_accuracy: 0.7074\n",
      "Epoch 139/150\n",
      "11/11 [==============================] - 53s 5s/step - loss: 1.2292e-06 - accuracy: 1.0000 - val_loss: 3.1764 - val_accuracy: 0.7074\n",
      "Epoch 140/150\n",
      "11/11 [==============================] - 49s 4s/step - loss: 1.2080e-06 - accuracy: 1.0000 - val_loss: 3.1642 - val_accuracy: 0.7074\n",
      "Epoch 141/150\n",
      "11/11 [==============================] - 55s 5s/step - loss: 1.1728e-06 - accuracy: 1.0000 - val_loss: 3.1690 - val_accuracy: 0.7074\n",
      "Epoch 142/150\n",
      "11/11 [==============================] - 54s 5s/step - loss: 1.1339e-06 - accuracy: 1.0000 - val_loss: 3.1904 - val_accuracy: 0.7074\n",
      "Epoch 143/150\n",
      "11/11 [==============================] - 51s 5s/step - loss: 1.0973e-06 - accuracy: 1.0000 - val_loss: 3.1789 - val_accuracy: 0.7074\n",
      "Epoch 144/150\n",
      "11/11 [==============================] - 49s 4s/step - loss: 1.0990e-06 - accuracy: 1.0000 - val_loss: 3.1963 - val_accuracy: 0.7074\n",
      "Epoch 145/150\n",
      "11/11 [==============================] - 49s 5s/step - loss: 1.0422e-06 - accuracy: 1.0000 - val_loss: 3.2123 - val_accuracy: 0.7021\n",
      "Epoch 146/150\n",
      "11/11 [==============================] - 49s 5s/step - loss: 1.0265e-06 - accuracy: 1.0000 - val_loss: 3.2051 - val_accuracy: 0.7074\n",
      "Epoch 147/150\n",
      "11/11 [==============================] - 49s 5s/step - loss: 1.0158e-06 - accuracy: 1.0000 - val_loss: 3.2175 - val_accuracy: 0.7021\n",
      "Epoch 148/150\n",
      "11/11 [==============================] - 49s 4s/step - loss: 9.7005e-07 - accuracy: 1.0000 - val_loss: 3.2061 - val_accuracy: 0.7074\n",
      "Epoch 149/150\n",
      "11/11 [==============================] - 49s 5s/step - loss: 9.5582e-07 - accuracy: 1.0000 - val_loss: 3.2339 - val_accuracy: 0.7021\n",
      "Epoch 150/150\n",
      "11/11 [==============================] - 49s 5s/step - loss: 9.3937e-07 - accuracy: 1.0000 - val_loss: 3.2393 - val_accuracy: 0.7021\n"
     ]
    }
   ],
   "source": [
    "history=model.fit(x_train, y_train, epochs=150,batch_size = 40 ,validation_data= (x_Test, y_Test), shuffle=True)"
   ]
  },
  {
   "cell_type": "code",
   "execution_count": 28,
   "metadata": {},
   "outputs": [
    {
     "data": {
      "image/png": "[encoded data removed]",
      "text/plain": [
       "<Figure size 432x288 with 1 Axes>"
      ]
     },
     "metadata": {
      "needs_background": "light"
     },
     "output_type": "display_data"
    }
   ],
   "source": [
    "plt.plot(history.history['accuracy'])\n",
    "plt.title('model accuracy')\n",
    "plt.ylabel('accuracy')\n",
    "plt.xlabel('epoch')\n",
    "plt.legend(['train'], loc='upper left')\n",
    "plt.show()"
   ]
  },
  {
   "cell_type": "code",
   "execution_count": 29,
   "metadata": {},
   "outputs": [
    {
     "data": {
      "image/png": "[encoded data removed]",
      "text/plain": [
       "<Figure size 432x288 with 1 Axes>"
      ]
     },
     "metadata": {
      "needs_background": "light"
     },
     "output_type": "display_data"
    }
   ],
   "source": [
    "plt.plot(history.history['loss'])\n",
    "plt.title('model loss')\n",
    "plt.ylabel('loss')\n",
    "plt.xlabel('epoch')\n",
    "plt.legend(['train'], loc='upper right')\n",
    "plt.show()"
   ]
  },
  {
   "cell_type": "code",
   "execution_count": 30,
   "metadata": {},
   "outputs": [],
   "source": [
    "model.save('keras_model_conv2D_v2.h5')"
   ]
  },
  {
   "cell_type": "code",
   "execution_count": 32,
   "metadata": {},
   "outputs": [
    {
     "name": "stdout",
     "output_type": "stream",
     "text": [
      "Model: \"model\"\n",
      "_________________________________________________________________\n",
      " Layer (type)                Output Shape              Param #   \n",
      "=================================================================\n",
      " conv2d_4_input (InputLayer)  [(None, 224, 224, 3)]    0         \n",
      "                                                                 \n",
      " conv2d_4 (Conv2D)           (None, 224, 224, 32)      896       \n",
      "                                                                 \n",
      " conv2d_5 (Conv2D)           (None, 224, 224, 64)      18496     \n",
      "                                                                 \n",
      " max_pooling2d_3 (MaxPooling  (None, 112, 112, 64)     0         \n",
      " 2D)                                                             \n",
      "                                                                 \n",
      " conv2d_6 (Conv2D)           (None, 112, 112, 128)     73856     \n",
      "                                                                 \n",
      " max_pooling2d_4 (MaxPooling  (None, 56, 56, 128)      0         \n",
      " 2D)                                                             \n",
      "                                                                 \n",
      " conv2d_7 (Conv2D)           (None, 56, 56, 256)       295168    \n",
      "                                                                 \n",
      " max_pooling2d_5 (MaxPooling  (None, 28, 28, 256)      0         \n",
      " 2D)                                                             \n",
      "                                                                 \n",
      " flatten_1 (Flatten)         (None, 200704)            0         \n",
      "                                                                 \n",
      " feature_dense1 (Dense)      (None, 256)               51380480  \n",
      "                                                                 \n",
      " feature_dense2 (Dense)      (None, 128)               32896     \n",
      "                                                                 \n",
      " feature_dense3 (Dense)      (None, 64)                8256      \n",
      "                                                                 \n",
      "=================================================================\n",
      "Total params: 51,810,048\n",
      "Trainable params: 51,810,048\n",
      "Non-trainable params: 0\n",
      "_________________________________________________________________\n"
     ]
    }
   ],
   "source": [
    "from keras.models import load_model\n",
    "import tensorflow as tf\n",
    "import keras\n",
    "\n",
    "from keras import regularizers\n",
    "from keras import backend as K\n",
    "\n",
    "from keras.models import Sequential, Model\n",
    "\n",
    "\n",
    "model = load_model('keras_model_conv2D_v2.h5')\n",
    "\n",
    "intermediate_layer_model = Model(inputs=model.input,outputs=model.get_layer('feature_dense3').output)\n",
    "intermediate_layer_model.summary()"
   ]
  },
  {
   "cell_type": "code",
   "execution_count": 8,
   "metadata": {},
   "outputs": [],
   "source": [
    "files=[]\n",
    "for i in range(0,438):\n",
    "    #print(filenames[i])\n",
    "    files.append('train_generator\\\\'+str(i))\n",
    "    \n",
    "filenames=[]\n",
    "for f in files:\n",
    "    x=f.replace('\\\\',\"/\",1)\n",
    "    filenames.append('final/train/'+ x)"
   ]
  },
  {
   "cell_type": "code",
   "execution_count": 9,
   "metadata": {},
   "outputs": [],
   "source": [
    "new_col = []\n",
    "for i in range(64):\n",
    "    new_col.append('Feature_%d'%(i+1))"
   ]
  },
  {
   "cell_type": "code",
   "execution_count": 10,
   "metadata": {},
   "outputs": [],
   "source": [
    "from PIL import Image\n",
    "import numpy as np\n",
    "from skimage import transform\n",
    "import csv "
   ]
  },
  {
   "cell_type": "code",
   "execution_count": 11,
   "metadata": {
    "scrolled": true
   },
   "outputs": [
    {
     "ename": "FileNotFoundError",
     "evalue": "[Errno 2] No such file or directory: 'final/train/train_generator/0'",
     "output_type": "error",
     "traceback": [
      "\u001b[1;31m---------------------------------------------------------------------------\u001b[0m",
      "\u001b[1;31mFileNotFoundError\u001b[0m                         Traceback (most recent call last)",
      "\u001b[1;32m<ipython-input-11-47c9f8dda61a>\u001b[0m in \u001b[0;36m<module>\u001b[1;34m\u001b[0m\n\u001b[0;32m      8\u001b[0m \u001b[1;33m\u001b[0m\u001b[0m\n\u001b[0;32m      9\u001b[0m \u001b[1;32mfor\u001b[0m \u001b[0mf\u001b[0m \u001b[1;32min\u001b[0m \u001b[0mfilenames\u001b[0m\u001b[1;33m:\u001b[0m\u001b[1;33m\u001b[0m\u001b[1;33m\u001b[0m\u001b[0m\n\u001b[1;32m---> 10\u001b[1;33m     \u001b[0mimage\u001b[0m \u001b[1;33m=\u001b[0m \u001b[0mload\u001b[0m\u001b[1;33m(\u001b[0m\u001b[0mf\u001b[0m\u001b[1;33m)\u001b[0m\u001b[1;33m\u001b[0m\u001b[1;33m\u001b[0m\u001b[0m\n\u001b[0m\u001b[0;32m     11\u001b[0m     \u001b[0mfiles\u001b[0m\u001b[1;33m.\u001b[0m\u001b[0mappend\u001b[0m\u001b[1;33m(\u001b[0m\u001b[0mf\u001b[0m\u001b[1;33m)\u001b[0m\u001b[1;33m\u001b[0m\u001b[1;33m\u001b[0m\u001b[0m\n\u001b[0;32m     12\u001b[0m     \u001b[0mpred\u001b[0m\u001b[1;33m=\u001b[0m\u001b[0mintermediate_layer_model\u001b[0m\u001b[1;33m.\u001b[0m\u001b[0mpredict\u001b[0m\u001b[1;33m(\u001b[0m\u001b[0mimage\u001b[0m\u001b[1;33m)\u001b[0m\u001b[1;33m\u001b[0m\u001b[1;33m\u001b[0m\u001b[0m\n",
      "\u001b[1;32m<ipython-input-11-47c9f8dda61a>\u001b[0m in \u001b[0;36mload\u001b[1;34m(filename)\u001b[0m\n\u001b[0;32m      1\u001b[0m \u001b[0mpreds\u001b[0m\u001b[1;33m=\u001b[0m\u001b[1;33m[\u001b[0m\u001b[1;33m]\u001b[0m\u001b[1;33m\u001b[0m\u001b[1;33m\u001b[0m\u001b[0m\n\u001b[0;32m      2\u001b[0m \u001b[1;32mdef\u001b[0m \u001b[0mload\u001b[0m\u001b[1;33m(\u001b[0m\u001b[0mfilename\u001b[0m\u001b[1;33m)\u001b[0m\u001b[1;33m:\u001b[0m\u001b[1;33m\u001b[0m\u001b[1;33m\u001b[0m\u001b[0m\n\u001b[1;32m----> 3\u001b[1;33m     \u001b[0mnp_image\u001b[0m \u001b[1;33m=\u001b[0m \u001b[0mImage\u001b[0m\u001b[1;33m.\u001b[0m\u001b[0mopen\u001b[0m\u001b[1;33m(\u001b[0m\u001b[0mfilename\u001b[0m\u001b[1;33m)\u001b[0m\u001b[1;33m\u001b[0m\u001b[1;33m\u001b[0m\u001b[0m\n\u001b[0m\u001b[0;32m      4\u001b[0m     \u001b[0mnp_image\u001b[0m \u001b[1;33m=\u001b[0m \u001b[0mnp\u001b[0m\u001b[1;33m.\u001b[0m\u001b[0marray\u001b[0m\u001b[1;33m(\u001b[0m\u001b[0mnp_image\u001b[0m\u001b[1;33m)\u001b[0m\u001b[1;33m.\u001b[0m\u001b[0mastype\u001b[0m\u001b[1;33m(\u001b[0m\u001b[1;34m'float32'\u001b[0m\u001b[1;33m)\u001b[0m\u001b[1;33m/\u001b[0m\u001b[1;36m255\u001b[0m\u001b[1;33m\u001b[0m\u001b[1;33m\u001b[0m\u001b[0m\n\u001b[0;32m      5\u001b[0m     \u001b[0mnp_image\u001b[0m \u001b[1;33m=\u001b[0m \u001b[0mtransform\u001b[0m\u001b[1;33m.\u001b[0m\u001b[0mresize\u001b[0m\u001b[1;33m(\u001b[0m\u001b[0mnp_image\u001b[0m\u001b[1;33m,\u001b[0m \u001b[1;33m(\u001b[0m\u001b[1;36m224\u001b[0m\u001b[1;33m,\u001b[0m \u001b[1;36m224\u001b[0m\u001b[1;33m,\u001b[0m \u001b[1;36m3\u001b[0m\u001b[1;33m)\u001b[0m\u001b[1;33m)\u001b[0m\u001b[1;33m\u001b[0m\u001b[1;33m\u001b[0m\u001b[0m\n",
      "\u001b[1;32m~\\anaconda3\\lib\\site-packages\\PIL\\Image.py\u001b[0m in \u001b[0;36mopen\u001b[1;34m(fp, mode, formats)\u001b[0m\n\u001b[0;32m   2889\u001b[0m \u001b[1;33m\u001b[0m\u001b[0m\n\u001b[0;32m   2890\u001b[0m     \u001b[1;32mif\u001b[0m \u001b[0mfilename\u001b[0m\u001b[1;33m:\u001b[0m\u001b[1;33m\u001b[0m\u001b[1;33m\u001b[0m\u001b[0m\n\u001b[1;32m-> 2891\u001b[1;33m         \u001b[0mfp\u001b[0m \u001b[1;33m=\u001b[0m \u001b[0mbuiltins\u001b[0m\u001b[1;33m.\u001b[0m\u001b[0mopen\u001b[0m\u001b[1;33m(\u001b[0m\u001b[0mfilename\u001b[0m\u001b[1;33m,\u001b[0m \u001b[1;34m\"rb\"\u001b[0m\u001b[1;33m)\u001b[0m\u001b[1;33m\u001b[0m\u001b[1;33m\u001b[0m\u001b[0m\n\u001b[0m\u001b[0;32m   2892\u001b[0m         \u001b[0mexclusive_fp\u001b[0m \u001b[1;33m=\u001b[0m \u001b[1;32mTrue\u001b[0m\u001b[1;33m\u001b[0m\u001b[1;33m\u001b[0m\u001b[0m\n\u001b[0;32m   2893\u001b[0m \u001b[1;33m\u001b[0m\u001b[0m\n",
      "\u001b[1;31mFileNotFoundError\u001b[0m: [Errno 2] No such file or directory: 'final/train/train_generator/0'"
     ]
    }
   ],
   "source": [
    "preds=[]\n",
    "def load(filename):\n",
    "    np_image = Image.open(filename)\n",
    "    np_image = np.array(np_image).astype('float32')/255\n",
    "    np_image = transform.resize(np_image, (224, 224, 3))\n",
    "    np_image = np.expand_dims(np_image, axis=0)\n",
    "    return np_image\n",
    "\n",
    "for f in filenames:\n",
    "    image = load(f)\n",
    "    files.append(f)\n",
    "    pred=intermediate_layer_model.predict(image)\n",
    "    preds.append(pred)\n",
    "\n",
    "df = pd.DataFrame (preds)\n",
    "filepath = 'new_data.xlsx'\n",
    "\n",
    "df.to_excel(filepath, index=False)"
   ]
  },
  {
   "cell_type": "code",
   "execution_count": null,
   "metadata": {},
   "outputs": [],
   "source": [
    "preds"
   ]
  },
  {
   "cell_type": "code",
   "execution_count": null,
   "metadata": {},
   "outputs": [],
   "source": []
  }
 ],
 "metadata": {
  "kernelspec": {
   "display_name": "Python 3",
   "language": "python",
   "name": "python3"
  },
  "language_info": {
   "codemirror_mode": {
    "name": "ipython",
    "version": 3
   },
   "file_extension": ".py",
   "mimetype": "text/x-python",
   "name": "python",
   "nbconvert_exporter": "python",
   "pygments_lexer": "ipython3",
   "version": "3.8.5"
  }
 },
 "nbformat": 4,
 "nbformat_minor": 4
}
